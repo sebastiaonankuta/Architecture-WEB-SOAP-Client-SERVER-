{
 "cells": [
  {
   "cell_type": "code",
   "execution_count": 21,
   "metadata": {},
   "outputs": [
    {
     "name": "stdout",
     "output_type": "stream",
     "text": [
      "-----------------------------------\n",
      "name: Sebastien\n",
      "-----------------------------------\n",
      "Hello NG: zertDDy ABCZZZZ\n"
     ]
    }
   ],
   "source": [
    "from zeep import Client\n",
    "client =Client('HelloWordWS.wsdl')\n",
    "R1 =client.service.sayHello('Sebastien')\n",
    "print(\"-----------------------------------\")\n",
    "print(R1)\n",
    "\n",
    "print(\"-----------------------------------\")\n",
    "R2=client.service.sayHelloBis(\"zertDDy\", \"ABCZZZZ\")\n",
    "print(R2)\n"
   ]
  },
  {
   "cell_type": "markdown",
   "metadata": {},
   "source": [
    "# PROJET JAVA ARCHITECTURE SOAP ---> PYTHON CLIENT"
   ]
  },
  {
   "cell_type": "markdown",
   "metadata": {},
   "source": [
    "# TEST CLEINT "
   ]
  },
  {
   "cell_type": "code",
   "execution_count": 34,
   "metadata": {},
   "outputs": [
    {
     "name": "stdout",
     "output_type": "stream",
     "text": [
      "-----------------------------------\n",
      "My Data  Management's Account:  Acount Number: 12 Solde: 324.0 creationDate: 12-12-2012\n"
     ]
    }
   ],
   "source": [
    "from zeep import Client\n",
    "client1 =Client('C:/Users/sebas/eclipse-workspace/projetSOAP/WebContent/wsdl/Account.wsdl')\n",
    "R1=client1.service.addAccount(12, 324,\"12-12-2012\")\n",
    "print(\"-----------------------------------\")\n",
    "print(R1)\n",
    "\n"
   ]
  },
  {
   "cell_type": "markdown",
   "metadata": {},
   "source": [
    "# 1 ajouter en compte sur SQL server Management  ok work!"
   ]
  },
  {
   "cell_type": "code",
   "execution_count": 26,
   "metadata": {},
   "outputs": [
    {
     "name": "stdout",
     "output_type": "stream",
     "text": [
      "--------------compte 1 ajouté ---------------------\n"
     ]
    }
   ],
   "source": [
    "from zeep import Client\n",
    "client1 =Client(wsdl='http://localhost:8080/projetSOAP/services/AddAccountService?wsdl')\n",
    "R1=client1.service.addAccount(2, 21342,\"30-12-2021\")\n",
    "print(\"--------------compte 1 ajouté ---------------------\")\n"
   ]
  },
  {
   "cell_type": "code",
   "execution_count": 27,
   "metadata": {},
   "outputs": [
    {
     "name": "stdout",
     "output_type": "stream",
     "text": [
      "--------------compte 2 ajouté---------------------\n"
     ]
    }
   ],
   "source": [
    "R1=client1.service.addAccount(2, 33,\"31-12-2021\")\n",
    "print(\"--------------compte 2 ajouté---------------------\")"
   ]
  },
  {
   "cell_type": "markdown",
   "metadata": {},
   "source": [
    "# 2 Mise à jour un compte sur SQL server Management   ok work!"
   ]
  },
  {
   "cell_type": "code",
   "execution_count": 28,
   "metadata": {},
   "outputs": [
    {
     "name": "stdout",
     "output_type": "stream",
     "text": [
      "-------------compte 1 updated----------------------\n"
     ]
    }
   ],
   "source": [
    "client2 =Client(wsdl='http://localhost:8080/projetSOAP/services/AddAccountService?wsdl')\n",
    "R2=client1.service.updateAccount(2,11, '11-11-2011')\n",
    "print(\"-------------compte 1 updated----------------------\")"
   ]
  },
  {
   "cell_type": "code",
   "execution_count": 39,
   "metadata": {},
   "outputs": [
    {
     "name": "stdout",
     "output_type": "stream",
     "text": [
      "-------------compte 2 updated----------------------\n"
     ]
    }
   ],
   "source": [
    "R2=client1.service.updateAccount(2,22, '12-12-2012')\n",
    "print(\"-------------compte 2 updated----------------------\")"
   ]
  },
  {
   "cell_type": "markdown",
   "metadata": {},
   "source": [
    "# 3 supprimer un compte sur SQL server Management   ok work!"
   ]
  },
  {
   "cell_type": "code",
   "execution_count": 29,
   "metadata": {},
   "outputs": [
    {
     "name": "stdout",
     "output_type": "stream",
     "text": [
      "-------------compte  supprimé----------------------\n"
     ]
    }
   ],
   "source": [
    "client2 =Client(wsdl='http://localhost:8080/projetSOAP/services/AddAccountService?wsdl')\n",
    "R2=client1.service.deleteAccount(2)\n",
    "print(\"-------------compte  supprimé----------------------\") "
   ]
  },
  {
   "cell_type": "code",
   "execution_count": null,
   "metadata": {},
   "outputs": [],
   "source": []
  },
  {
   "cell_type": "markdown",
   "metadata": {},
   "source": [
    "#  4 Recuperer les comptes sur SQL server Management   ok work!"
   ]
  },
  {
   "cell_type": "code",
   "execution_count": 30,
   "metadata": {},
   "outputs": [
    {
     "name": "stdout",
     "output_type": "stream",
     "text": [
      "None\n",
      "-------------All Accounts recuperés----------------------\n"
     ]
    }
   ],
   "source": [
    "client2 =Client(wsdl='http://localhost:8080/projetSOAP/services/AddAccountService?wsdl')\n",
    "R2=client1.service.getAllAccount()\n",
    "print(R2)\n",
    "print(\"-------------All Accounts recuperés----------------------\")"
   ]
  },
  {
   "cell_type": "code",
   "execution_count": null,
   "metadata": {},
   "outputs": [],
   "source": []
  },
  {
   "cell_type": "code",
   "execution_count": null,
   "metadata": {},
   "outputs": [],
   "source": []
  }
 ],
 "metadata": {
  "kernelspec": {
   "display_name": "Python 3",
   "language": "python",
   "name": "python3"
  },
  "language_info": {
   "codemirror_mode": {
    "name": "ipython",
    "version": 3
   },
   "file_extension": ".py",
   "mimetype": "text/x-python",
   "name": "python",
   "nbconvert_exporter": "python",
   "pygments_lexer": "ipython3",
   "version": "3.7.9"
  }
 },
 "nbformat": 4,
 "nbformat_minor": 2
}
